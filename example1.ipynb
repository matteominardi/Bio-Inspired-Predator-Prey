{
 "cells": [
  {
   "attachments": {},
   "cell_type": "markdown",
   "metadata": {},
   "source": [
    "# Bio-Inspired AI - Prey vs Predator"
   ]
  },
  {
   "cell_type": "code",
   "execution_count": 1,
   "metadata": {},
   "outputs": [],
   "source": [
    "#from utils.utils_01.ga import generate_offspring\n",
    "from random import choices, randrange, random, randint\n",
    "from typing import List, Callable, Tuple\n",
    "from collections import namedtuple\n",
    "from functools import partial\n",
    "import time"
   ]
  },
  {
   "cell_type": "code",
   "execution_count": 2,
   "metadata": {},
   "outputs": [],
   "source": [
    "genome = List[int]\n",
    "population = List[genome]\n",
    "fitness_function = Callable[[genome], int]\n",
    "populate_function = Callable[[], population]\n",
    "selection_function = Callable[[population, fitness_function], Tuple[genome, genome]]\n",
    "crossover_function = Callable[[genome, genome], Tuple[genome, genome]]\n",
    "mutation_function = Callable[[genome, genome], genome]\n",
    "Thing = namedtuple('thing', ['name', 'value', 'weight'])"
   ]
  },
  {
   "cell_type": "code",
   "execution_count": 3,
   "metadata": {},
   "outputs": [],
   "source": [
    "things = [\n",
    "    Thing('laptop', 500, 2000),\n",
    "    Thing('headphones', 150, 160)\n",
    "]\n",
    "\n",
    "more_things = [\n",
    "    Thing('mints', 5, 20),\n",
    "    Thing('socks', 10, 30)\n",
    "]"
   ]
  },
  {
   "cell_type": "code",
   "execution_count": 4,
   "metadata": {},
   "outputs": [],
   "source": [
    "def generate_genome(length: int) -> genome:\n",
    "    return choices([0, 1], k = length)\n",
    "\n",
    "def generate_population(size: int, genome_length: int) -> population:\n",
    "    return [generate_genome(genome_length) for _ in range(size)]"
   ]
  },
  {
   "cell_type": "code",
   "execution_count": 5,
   "metadata": {},
   "outputs": [],
   "source": [
    "def fitness(genome: genome, things: List[Thing], weight_limit: int) -> int:\n",
    "    if len(genome) != len(things):\n",
    "        raise ValueError(\"Error\")\n",
    "    \n",
    "    weight = 0\n",
    "    value = 0\n",
    "\n",
    "    for i, thing in enumerate(things):\n",
    "        if genome[i] == 1:\n",
    "            weight += thing.weight\n",
    "            value += thing.value\n",
    "\n",
    "            if weight > weight_limit:\n",
    "                return 0\n",
    "    \n",
    "    return value"
   ]
  },
  {
   "cell_type": "code",
   "execution_count": 6,
   "metadata": {},
   "outputs": [],
   "source": [
    "def selection_pair(population: population, fitness_function: fitness_function) -> population:\n",
    "    return choices(\n",
    "        population = population,\n",
    "        weights = [fitness_function(genome) for genome in population],\n",
    "        k = 2\n",
    "    )"
   ]
  },
  {
   "cell_type": "code",
   "execution_count": 7,
   "metadata": {},
   "outputs": [],
   "source": [
    "def single_point_crossover(a: genome, b: genome) -> Tuple[genome, genome]:\n",
    "    if len(a) != len(b):\n",
    "        raise ValueError(\"Error\")\n",
    "    \n",
    "    if len(a) < 2:\n",
    "        return a, b\n",
    "    \n",
    "    p = randint(1, len(a) - 1)\n",
    "    \n",
    "    return a[0: p] + b[p:], b[0: p] + a[p:] "
   ]
  },
  {
   "cell_type": "code",
   "execution_count": 8,
   "metadata": {},
   "outputs": [],
   "source": [
    "def mutation(genome: genome, num: int = 1, probability: float = 0.5) -> genome:\n",
    "    for _ in range(num):\n",
    "        index = randrange(len(genome))\n",
    "        genome[index] = genome[index] if random() > probability else abs(genome[index] - 1)\n",
    "        return genome"
   ]
  },
  {
   "cell_type": "code",
   "execution_count": 9,
   "metadata": {},
   "outputs": [],
   "source": [
    "def run_evolution(\n",
    "        populate_func: populate_function,\n",
    "        fitness_func: fitness_function,\n",
    "        fitness_limit: int,\n",
    "        selection_func: selection_function = selection_pair,\n",
    "        crossover_func: crossover_function = single_point_crossover,\n",
    "        mutation_func: mutation_function = mutation,\n",
    "        generation_limit: int = 100\n",
    ") -> Tuple[population, int]:\n",
    "    population = populate_func()\n",
    "\n",
    "    for i in range(generation_limit):\n",
    "        population = sorted(population, key = lambda genome: fitness_func(genome), reverse = True)\n",
    "\n",
    "        if fitness_func(population[0]) >= fitness_limit:\n",
    "            break\n",
    "\n",
    "        next_generation = population[:2]\n",
    "\n",
    "        for j in range(int(len(population) / 2) - 1):\n",
    "            parents = selection_func(population, fitness_func)\n",
    "            offspring_a, offspring_b = crossover_func(parents[0], parents[1])\n",
    "            offspring_a = mutation_func(offspring_a)\n",
    "            offspring_b = mutation_func(offspring_b)\n",
    "            next_generation += [offspring_a, offspring_b]\n",
    "\n",
    "        population = next_generation\n",
    "    \n",
    "    population = sorted(population, key = lambda genome: fitness_func(genome), reverse = True)\n",
    "\n",
    "    return population, i\n"
   ]
  },
  {
   "cell_type": "code",
   "execution_count": 13,
   "metadata": {},
   "outputs": [
    {
     "name": "stdout",
     "output_type": "stream",
     "text": [
      "number of generations: 99\n",
      "time passed: 0.01647782325744629\n"
     ]
    }
   ],
   "source": [
    "start = time.time()\n",
    "\n",
    "population, generations = run_evolution(\n",
    "    populate_func = partial(\n",
    "        generate_population, size = 10, genome_length = len(things)\n",
    "    ),\n",
    "    fitness_func = partial(\n",
    "        fitness, things = things, weight_limit = 3000\n",
    "    ), \n",
    "    fitness_limit = 740, \n",
    "    generation_limit = 100\n",
    ")\n",
    "\n",
    "end = time.time()\n",
    "\n",
    "print(\"number of generations:\", generations)\n",
    "print(\"time passed:\", end-start)"
   ]
  }
 ],
 "metadata": {
  "kernelspec": {
   "display_name": "base",
   "language": "python",
   "name": "python3"
  },
  "language_info": {
   "codemirror_mode": {
    "name": "ipython",
    "version": 3
   },
   "file_extension": ".py",
   "mimetype": "text/x-python",
   "name": "python",
   "nbconvert_exporter": "python",
   "pygments_lexer": "ipython3",
   "version": "3.9.13"
  },
  "orig_nbformat": 4
 },
 "nbformat": 4,
 "nbformat_minor": 2
}
